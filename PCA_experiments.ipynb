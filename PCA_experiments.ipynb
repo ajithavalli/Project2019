{
 "cells": [
  {
   "cell_type": "code",
   "execution_count": 100,
   "metadata": {},
   "outputs": [
    {
     "data": {
      "text/plain": [
       "array(['sample1_final_filtered_snps_cancer',\n",
       "       'sample2_final_filtered_snps_cancer',\n",
       "       'sample3_final_filtered_snps_cancer',\n",
       "       'sample4_final_filtered_snps_cancer',\n",
       "       'sample5_final_filtered_snps_cancer',\n",
       "       'sample6_final_filtered_snps_cancer',\n",
       "       'sample7_final_filtered_snps_cancer'], dtype=object)"
      ]
     },
     "execution_count": 100,
     "metadata": {},
     "output_type": "execute_result"
    }
   ],
   "source": [
    "import pandas as pd\n",
    "import numpy as np\n",
    "from matplotlib import pyplot as plt\n",
    "\n",
    "#AllCommon_PCA.txt  is an output from our CommonUniqueVariants.py\n",
    "df = pd.read_csv(\"AllCommon_PCA.txt\", sep='\\t')\n",
    "X = df.iloc[:,1:334].values\n",
    "y = df.iloc[:,0].values\n",
    "y\n"
   ]
  },
  {
   "cell_type": "code",
   "execution_count": 101,
   "metadata": {},
   "outputs": [
    {
     "data": {
      "text/plain": [
       "array([[ 0.        ,  0.        ,  0.        , ...,  0.        ,\n",
       "         0.        ,  0.        ],\n",
       "       [ 0.        ,  0.        ,  0.        , ...,  0.        ,\n",
       "         0.        ,  0.        ],\n",
       "       [ 0.        ,  0.        ,  1.16666667, ..., -0.38038762,\n",
       "         0.64465706,  0.697801  ],\n",
       "       ...,\n",
       "       [ 0.        ,  0.        , -0.38038762, ...,  1.16666667,\n",
       "        -0.37584349, -0.18781573],\n",
       "       [ 0.        ,  0.        ,  0.64465706, ..., -0.37584349,\n",
       "         1.16666667,  1.13213489],\n",
       "       [ 0.        ,  0.        ,  0.697801  , ..., -0.18781573,\n",
       "         1.13213489,  1.16666667]])"
      ]
     },
     "execution_count": 101,
     "metadata": {},
     "output_type": "execute_result"
    }
   ],
   "source": [
    "from sklearn.preprocessing import StandardScaler\n",
    "X_std = StandardScaler().fit_transform(X)\n",
    "mean_vec = np.mean(X_std, axis=0)\n",
    "cov_mat = (X_std - mean_vec).T.dot((X_std - mean_vec)) / (X_std.shape[0]-1)\n",
    "cov_mat"
   ]
  },
  {
   "cell_type": "code",
   "execution_count": 102,
   "metadata": {},
   "outputs": [
    {
     "name": "stdout",
     "output_type": "stream",
     "text": [
      "EIGEN_VALUES [ 1.01597426e+02+0.00000000e+00j  4.12346528e+01+0.00000000e+00j\n",
      "  3.61778970e+01+0.00000000e+00j  3.10383275e+01+0.00000000e+00j\n",
      "  2.57021818e+01+0.00000000e+00j  2.09161818e+01+0.00000000e+00j\n",
      " -6.81736094e-15+0.00000000e+00j  6.16793143e-15+0.00000000e+00j\n",
      " -4.72381829e-15+2.19528766e-16j -4.72381829e-15-2.19528766e-16j\n",
      "  1.49101994e-15+4.43796467e-15j  1.49101994e-15-4.43796467e-15j\n",
      " -2.31448022e-15+3.77843668e-15j -2.31448022e-15-3.77843668e-15j\n",
      "  3.44556267e-15+2.91455496e-15j  3.44556267e-15-2.91455496e-15j\n",
      " -2.54426646e-15+3.10438412e-15j -2.54426646e-15-3.10438412e-15j\n",
      "  3.89380447e-15+1.09179375e-15j  3.89380447e-15-1.09179375e-15j\n",
      "  3.05550840e-15+2.45514080e-15j  3.05550840e-15-2.45514080e-15j\n",
      " -3.49701298e-15+1.48290385e-15j -3.49701298e-15-1.48290385e-15j\n",
      "  3.84016016e-15+6.44974351e-17j  3.84016016e-15-6.44974351e-17j\n",
      " -7.25421386e-16+3.59404557e-15j -7.25421386e-16-3.59404557e-15j\n",
      " -1.60708312e-16+3.39532245e-15j -1.60708312e-16-3.39532245e-15j\n",
      " -2.77267580e-15+1.85062560e-15j -2.77267580e-15-1.85062560e-15j\n",
      "  2.07339603e-15+2.38939700e-15j  2.07339603e-15-2.38939700e-15j\n",
      " -2.81486375e-15+0.00000000e+00j  2.49504526e-15+5.09445507e-16j\n",
      "  2.49504526e-15-5.09445507e-16j  2.50030872e-15+0.00000000e+00j\n",
      "  2.23392492e-15+9.34043957e-16j  2.23392492e-15-9.34043957e-16j\n",
      " -2.15592526e-15+1.58492526e-16j -2.15592526e-15-1.58492526e-16j\n",
      " -2.15461999e-15+0.00000000e+00j -1.95320029e-15+6.06056651e-16j\n",
      " -1.95320029e-15-6.06056651e-16j -1.65500543e-15+1.06566488e-15j\n",
      " -1.65500543e-15-1.06566488e-15j  1.22283826e-15+1.56693855e-15j\n",
      "  1.22283826e-15-1.56693855e-15j  2.08736480e-15+3.49818706e-16j\n",
      "  2.08736480e-15-3.49818706e-16j  1.86672286e-15+9.11159135e-16j\n",
      "  1.86672286e-15-9.11159135e-16j  1.82410084e-15+6.96597937e-16j\n",
      "  1.82410084e-15-6.96597937e-16j -7.95243062e-16+1.56988577e-15j\n",
      " -7.95243062e-16-1.56988577e-15j  1.90649170e-15+9.45864047e-18j\n",
      "  1.90649170e-15-9.45864047e-18j -1.36769959e-15+1.15395909e-15j\n",
      " -1.36769959e-15-1.15395909e-15j -1.76388970e-15+4.45651583e-16j\n",
      " -1.76388970e-15-4.45651583e-16j -1.59281600e-15+7.67536168e-16j\n",
      " -1.59281600e-15-7.67536168e-16j -1.75045561e-15+0.00000000e+00j\n",
      "  4.34750568e-16+1.52759831e-15j  4.34750568e-16-1.52759831e-15j\n",
      "  1.10458561e-15+1.18772398e-15j  1.10458561e-15-1.18772398e-15j\n",
      " -6.49275558e-16+1.40640618e-15j -6.49275558e-16-1.40640618e-15j\n",
      " -9.01498479e-16+1.25822417e-15j -9.01498479e-16-1.25822417e-15j\n",
      "  1.65299934e-15+0.00000000e+00j -1.58805941e-15+0.00000000e+00j\n",
      " -1.62364890e-16+1.40138971e-15j -1.62364890e-16-1.40138971e-15j\n",
      " -1.20428622e-15+7.33997068e-16j -1.20428622e-15-7.33997068e-16j\n",
      " -1.43688308e-15+0.00000000e+00j  1.57656727e-15+2.62762290e-16j\n",
      "  1.57656727e-15-2.62762290e-16j  1.28199730e-15+7.61438284e-16j\n",
      "  1.28199730e-15-7.61438284e-16j  1.37422479e-15+6.19426551e-16j\n",
      "  1.37422479e-15-6.19426551e-16j  9.74501884e-16+9.64104408e-16j\n",
      "  9.74501884e-16-9.64104408e-16j  1.44391239e-15+0.00000000e+00j\n",
      " -9.21792758e-16+8.69762317e-16j -9.21792758e-16-8.69762317e-16j\n",
      " -1.25103496e-15+4.34674204e-16j -1.25103496e-15-4.34674204e-16j\n",
      " -1.16994903e-15+5.31184163e-16j -1.16994903e-15-5.31184163e-16j\n",
      " -1.29177008e-15+2.16382889e-16j -1.29177008e-15-2.16382889e-16j\n",
      "  5.40212411e-16+1.07267908e-15j  5.40212411e-16-1.07267908e-15j\n",
      "  1.19806505e-15+4.83468002e-16j  1.19806505e-15-4.83468002e-16j\n",
      "  1.32642812e-15+1.40317887e-16j  1.32642812e-15-1.40317887e-16j\n",
      " -1.24223180e-15+5.19411352e-17j -1.24223180e-15-5.19411352e-17j\n",
      " -7.09657021e-16+8.85541458e-16j -7.09657021e-16-8.85541458e-16j\n",
      "  9.95285804e-17+1.06088034e-15j  9.95285804e-17-1.06088034e-15j\n",
      " -3.58322352e-16+9.83733165e-16j -3.58322352e-16-9.83733165e-16j\n",
      "  7.70801540e-16+7.34914004e-16j  7.70801540e-16-7.34914004e-16j\n",
      "  6.37731148e-16+8.19221146e-16j  6.37731148e-16-8.19221146e-16j\n",
      "  9.70808290e-16+5.02525464e-16j  9.70808290e-16-5.02525464e-16j\n",
      "  1.13024053e-15+1.74277454e-16j  1.13024053e-15-1.74277454e-16j\n",
      "  1.09868397e-15+2.31798881e-16j  1.09868397e-15-2.31798881e-16j\n",
      "  1.13508630e-15+0.00000000e+00j  2.92891001e-16+9.34238096e-16j\n",
      "  2.92891001e-16-9.34238096e-16j -8.49904743e-16+6.41796643e-16j\n",
      " -8.49904743e-16-6.41796643e-16j -1.07161104e-15+2.78177513e-16j\n",
      " -1.07161104e-15-2.78177513e-16j -1.13752012e-15+0.00000000e+00j\n",
      " -3.91100480e-16+8.78337136e-16j -3.91100480e-16-8.78337136e-16j\n",
      "  4.95909306e-16+8.11323267e-16j  4.95909306e-16-8.11323267e-16j\n",
      " -1.08247378e-15+0.00000000e+00j -6.02981171e-16+7.27233583e-16j\n",
      " -6.02981171e-16-7.27233583e-16j -8.36036636e-16+4.58748408e-16j\n",
      " -8.36036636e-16-4.58748408e-16j  5.74843859e-16+6.40869296e-16j\n",
      "  5.74843859e-16-6.40869296e-16j -8.62540012e-16+3.26098291e-16j\n",
      " -8.62540012e-16-3.26098291e-16j  1.97528904e-16+7.40454504e-16j\n",
      "  1.97528904e-16-7.40454504e-16j  8.25737081e-16+1.73367327e-16j\n",
      "  8.25737081e-16-1.73367327e-16j -3.88664160e-16+6.86527766e-16j\n",
      " -3.88664160e-16-6.86527766e-16j -6.85554700e-16+5.03584460e-16j\n",
      " -6.85554700e-16-5.03584460e-16j -7.86725139e-17+7.02009041e-16j\n",
      " -7.86725139e-17-7.02009041e-16j  6.95415871e-16+3.02892034e-16j\n",
      "  6.95415871e-16-3.02892034e-16j -7.40918743e-16+1.86756306e-16j\n",
      " -7.40918743e-16-1.86756306e-16j  5.97732386e-16+4.12598127e-16j\n",
      "  5.97732386e-16-4.12598127e-16j  6.94406998e-16+1.07865106e-16j\n",
      "  6.94406998e-16-1.07865106e-16j  4.17516719e-16+4.76763075e-16j\n",
      "  4.17516719e-16-4.76763075e-16j  2.40044433e-16+5.14412415e-16j\n",
      "  2.40044433e-16-5.14412415e-16j -5.55803723e-16+2.99221580e-16j\n",
      " -5.55803723e-16-2.99221580e-16j -6.34111024e-16+4.69998178e-17j\n",
      " -6.34111024e-16-4.69998178e-17j  6.04116322e-16+7.53218764e-17j\n",
      "  6.04116322e-16-7.53218764e-17j  5.34174742e-16+0.00000000e+00j\n",
      " -8.84081424e-17+4.81856949e-16j -8.84081424e-17-4.81856949e-16j\n",
      " -2.56018307e-16+4.02266708e-16j -2.56018307e-16-4.02266708e-16j\n",
      "  5.88423986e-17+4.42460576e-16j  5.88423986e-17-4.42460576e-16j\n",
      " -4.12269240e-16+1.84351898e-16j -4.12269240e-16-1.84351898e-16j\n",
      "  3.73872950e-16+1.70829282e-16j  3.73872950e-16-1.70829282e-16j\n",
      " -1.78603604e-16+3.45661122e-16j -1.78603604e-16-3.45661122e-16j\n",
      " -3.93459508e-16+0.00000000e+00j -7.38476710e-17+3.40098322e-16j\n",
      " -7.38476710e-17-3.40098322e-16j  1.02532453e-16+2.41209058e-16j\n",
      "  1.02532453e-16-2.41209058e-16j -2.75409096e-16+0.00000000e+00j\n",
      " -1.45398805e-16+2.22871617e-16j -1.45398805e-16-2.22871617e-16j\n",
      "  2.24426506e-16+2.75918622e-17j  2.24426506e-16-2.75918622e-17j\n",
      "  3.72586154e-17+1.61632295e-16j  3.72586154e-17-1.61632295e-16j\n",
      "  3.40013767e-17+0.00000000e+00j -6.91165128e-24+0.00000000e+00j\n",
      " -3.03768784e-24+0.00000000e+00j  6.91163414e-24+0.00000000e+00j\n",
      "  3.03770074e-24+0.00000000e+00j  3.45686861e-30+2.20452689e-30j\n",
      "  3.45686861e-30-2.20452689e-30j -2.35178185e-30+0.00000000e+00j\n",
      " -9.15419972e-31+0.00000000e+00j -3.08431384e-31+1.03107579e-31j\n",
      " -3.08431384e-31-1.03107579e-31j -3.55331887e-31+0.00000000e+00j\n",
      "  2.44666979e-31+0.00000000e+00j  1.21394365e-31+1.57557861e-31j\n",
      "  1.21394365e-31-1.57557861e-31j -1.71666150e-31+0.00000000e+00j\n",
      "  1.17348759e-31+0.00000000e+00j  6.53557245e-32+6.76411570e-32j\n",
      "  6.53557245e-32-6.76411570e-32j  1.23357578e-32+5.10976188e-32j\n",
      "  1.23357578e-32-5.10976188e-32j -5.14592932e-32+1.48660832e-32j\n",
      " -5.14592932e-32-1.48660832e-32j  2.13015094e-33+0.00000000e+00j\n",
      "  0.00000000e+00+0.00000000e+00j  0.00000000e+00+0.00000000e+00j\n",
      "  0.00000000e+00+0.00000000e+00j  0.00000000e+00+0.00000000e+00j\n",
      "  0.00000000e+00+0.00000000e+00j  0.00000000e+00+0.00000000e+00j\n",
      "  0.00000000e+00+0.00000000e+00j  0.00000000e+00+0.00000000e+00j\n",
      "  0.00000000e+00+0.00000000e+00j  0.00000000e+00+0.00000000e+00j\n",
      "  0.00000000e+00+0.00000000e+00j  0.00000000e+00+0.00000000e+00j\n",
      "  0.00000000e+00+0.00000000e+00j  0.00000000e+00+0.00000000e+00j\n",
      "  0.00000000e+00+0.00000000e+00j  0.00000000e+00+0.00000000e+00j\n",
      "  0.00000000e+00+0.00000000e+00j  0.00000000e+00+0.00000000e+00j\n",
      "  0.00000000e+00+0.00000000e+00j  0.00000000e+00+0.00000000e+00j\n",
      "  0.00000000e+00+0.00000000e+00j  0.00000000e+00+0.00000000e+00j\n",
      "  0.00000000e+00+0.00000000e+00j  0.00000000e+00+0.00000000e+00j\n",
      "  0.00000000e+00+0.00000000e+00j  0.00000000e+00+0.00000000e+00j\n",
      "  0.00000000e+00+0.00000000e+00j  0.00000000e+00+0.00000000e+00j\n",
      "  0.00000000e+00+0.00000000e+00j  0.00000000e+00+0.00000000e+00j\n",
      "  0.00000000e+00+0.00000000e+00j  0.00000000e+00+0.00000000e+00j\n",
      "  0.00000000e+00+0.00000000e+00j  0.00000000e+00+0.00000000e+00j\n",
      "  0.00000000e+00+0.00000000e+00j  0.00000000e+00+0.00000000e+00j\n",
      "  0.00000000e+00+0.00000000e+00j  0.00000000e+00+0.00000000e+00j\n",
      "  0.00000000e+00+0.00000000e+00j  0.00000000e+00+0.00000000e+00j\n",
      "  0.00000000e+00+0.00000000e+00j  0.00000000e+00+0.00000000e+00j\n",
      "  0.00000000e+00+0.00000000e+00j  0.00000000e+00+0.00000000e+00j\n",
      "  0.00000000e+00+0.00000000e+00j  0.00000000e+00+0.00000000e+00j\n",
      "  0.00000000e+00+0.00000000e+00j  0.00000000e+00+0.00000000e+00j\n",
      "  0.00000000e+00+0.00000000e+00j  0.00000000e+00+0.00000000e+00j\n",
      "  0.00000000e+00+0.00000000e+00j  0.00000000e+00+0.00000000e+00j\n",
      "  0.00000000e+00+0.00000000e+00j  0.00000000e+00+0.00000000e+00j\n",
      "  0.00000000e+00+0.00000000e+00j  0.00000000e+00+0.00000000e+00j\n",
      "  0.00000000e+00+0.00000000e+00j  0.00000000e+00+0.00000000e+00j\n",
      "  0.00000000e+00+0.00000000e+00j  0.00000000e+00+0.00000000e+00j\n",
      "  0.00000000e+00+0.00000000e+00j  0.00000000e+00+0.00000000e+00j\n",
      "  0.00000000e+00+0.00000000e+00j  0.00000000e+00+0.00000000e+00j\n",
      "  0.00000000e+00+0.00000000e+00j  0.00000000e+00+0.00000000e+00j\n",
      "  0.00000000e+00+0.00000000e+00j  0.00000000e+00+0.00000000e+00j\n",
      "  0.00000000e+00+0.00000000e+00j  0.00000000e+00+0.00000000e+00j\n",
      "  0.00000000e+00+0.00000000e+00j  0.00000000e+00+0.00000000e+00j\n",
      "  0.00000000e+00+0.00000000e+00j  0.00000000e+00+0.00000000e+00j\n",
      "  0.00000000e+00+0.00000000e+00j  0.00000000e+00+0.00000000e+00j\n",
      "  0.00000000e+00+0.00000000e+00j  0.00000000e+00+0.00000000e+00j\n",
      "  0.00000000e+00+0.00000000e+00j  0.00000000e+00+0.00000000e+00j\n",
      "  0.00000000e+00+0.00000000e+00j  0.00000000e+00+0.00000000e+00j\n",
      "  0.00000000e+00+0.00000000e+00j  0.00000000e+00+0.00000000e+00j\n",
      "  0.00000000e+00+0.00000000e+00j  0.00000000e+00+0.00000000e+00j\n",
      "  0.00000000e+00+0.00000000e+00j  0.00000000e+00+0.00000000e+00j\n",
      "  0.00000000e+00+0.00000000e+00j  0.00000000e+00+0.00000000e+00j\n",
      "  0.00000000e+00+0.00000000e+00j  0.00000000e+00+0.00000000e+00j\n",
      "  0.00000000e+00+0.00000000e+00j  0.00000000e+00+0.00000000e+00j\n",
      "  0.00000000e+00+0.00000000e+00j  0.00000000e+00+0.00000000e+00j\n",
      "  0.00000000e+00+0.00000000e+00j  0.00000000e+00+0.00000000e+00j\n",
      "  0.00000000e+00+0.00000000e+00j  0.00000000e+00+0.00000000e+00j\n",
      "  0.00000000e+00+0.00000000e+00j  0.00000000e+00+0.00000000e+00j\n",
      "  0.00000000e+00+0.00000000e+00j  0.00000000e+00+0.00000000e+00j\n",
      "  0.00000000e+00+0.00000000e+00j  0.00000000e+00+0.00000000e+00j\n",
      "  0.00000000e+00+0.00000000e+00j  0.00000000e+00+0.00000000e+00j\n",
      "  0.00000000e+00+0.00000000e+00j  0.00000000e+00+0.00000000e+00j\n",
      "  0.00000000e+00+0.00000000e+00j  0.00000000e+00+0.00000000e+00j\n",
      "  0.00000000e+00+0.00000000e+00j]\n",
      "EIGEN_VECTORS [[ 0.        +0.j  0.        +0.j  0.        +0.j ...  0.        +0.j\n",
      "   0.        +0.j  0.        +0.j]\n",
      " [ 0.        +0.j  0.        +0.j  0.        +0.j ...  0.        +0.j\n",
      "   0.        +0.j  0.        +0.j]\n",
      " [ 0.00437788+0.j  0.07354806+0.j -0.00992775+0.j ...  0.        +0.j\n",
      "   0.        +0.j  0.        +0.j]\n",
      " ...\n",
      " [ 0.00320868+0.j -0.02249155+0.j  0.00511874+0.j ...  0.        +0.j\n",
      "   0.        +0.j  0.        +0.j]\n",
      " [-0.01982541+0.j  0.14101233+0.j  0.03316182+0.j ...  0.        +0.j\n",
      "   0.        +0.j  0.        +0.j]\n",
      " [-0.03142461+0.j  0.1400495 +0.j  0.03620913+0.j ...  0.        +0.j\n",
      "   0.        +0.j  0.        +0.j]]\n"
     ]
    }
   ],
   "source": [
    "eig_vals, eig_vecs = np.linalg.eig(cov_mat)\n",
    "print(\"EIGEN_VALUES\", eig_vals)\n",
    "print(\"EIGEN_VECTORS\", eig_vecs)"
   ]
  },
  {
   "cell_type": "code",
   "execution_count": 104,
   "metadata": {},
   "outputs": [
    {
     "data": {
      "text/plain": [
       "[<matplotlib.lines.Line2D at 0x1382183c8>]"
      ]
     },
     "execution_count": 104,
     "metadata": {},
     "output_type": "execute_result"
    },
    {
     "data": {
      "image/png": "[encoded data removed]",
      "text/plain": [
       "<Figure size 432x288 with 1 Axes>"
      ]
     },
     "metadata": {
      "needs_background": "light"
     },
     "output_type": "display_data"
    }
   ],
   "source": [
    "tot = sum(eig_vals)\n",
    "var_exp = [(i / tot)*100 for i in sorted(eig_vals, reverse=True)]\n",
    "cum_var_exp = np.cumsum(var_exp)\n",
    "\n",
    "#plt.plot(var_exp) #Individual\n",
    "plt.plot(cum_var_exp) #Cumulative"
   ]
  },
  {
   "cell_type": "code",
   "execution_count": 106,
   "metadata": {},
   "outputs": [],
   "source": [
    "# Make a list of (eigenvalue, eigenvector) tuples\n",
    "eig_pairs = [(np.abs(eig_vals[i]), eig_vecs[:,i]) for i in range(len(eig_vals))]\n",
    "# Sort the (eigenvalue, eigenvector) tuples from high to low\n",
    "matrix_w = np.hstack((eig_pairs[0][1].reshape(333,1), \n",
    "                      eig_pairs[1][1].reshape(333,1)))"
   ]
  },
  {
   "cell_type": "code",
   "execution_count": 107,
   "metadata": {},
   "outputs": [
    {
     "data": {
      "text/plain": [
       "array([[-16.4117793 +0.j,   0.57094078+0.j],\n",
       "       [  9.71432622+0.j,  -5.20136521+0.j],\n",
       "       [  5.99228476+0.j,  -8.35467071+0.j],\n",
       "       [  4.63098194+0.j,   0.05085309+0.j],\n",
       "       [-12.07767535+0.j,  -2.6371495 +0.j],\n",
       "       [  1.90570232+0.j,   4.46636153+0.j],\n",
       "       [  6.24615941+0.j,  11.10503002+0.j]])"
      ]
     },
     "execution_count": 107,
     "metadata": {},
     "output_type": "execute_result"
    }
   ],
   "source": [
    "Y = X_std.dot(matrix_w)\n",
    "Y"
   ]
  },
  {
   "cell_type": "code",
   "execution_count": 109,
   "metadata": {},
   "outputs": [
    {
     "data": {
      "text/plain": [
       "<matplotlib.collections.PathCollection at 0x1383afa90>"
      ]
     },
     "execution_count": 109,
     "metadata": {},
     "output_type": "execute_result"
    },
    {
     "data": {
      "image/png": "[encoded data removed]",
      "text/plain": [
       "<Figure size 432x288 with 1 Axes>"
      ]
     },
     "metadata": {
      "needs_background": "light"
     },
     "output_type": "display_data"
    }
   ],
   "source": [
    "data = []\n",
    "classes = y\n",
    "\n",
    "colors = ('red', 'cyan', 'black', 'blue', 'green', 'orange', 'yellow')\n",
    "\n",
    "cx = []\n",
    "cy = []\n",
    "for name, col in zip(classes, colors):\n",
    "    cx.append(Y[y==name,0][0])\n",
    "    cy.append(Y[y==name,1][0])\n",
    "    \n",
    "plt.scatter(cx, cy, c=colors, alpha=0.5)\n"
   ]
  },
  {
   "cell_type": "code",
   "execution_count": 110,
   "metadata": {},
   "outputs": [
    {
     "data": {
      "text/plain": [
       "<Figure size 1800x1000 with 0 Axes>"
      ]
     },
     "metadata": {},
     "output_type": "display_data"
    },
    {
     "data": {
      "image/png": "[encoded data removed]",
      "text/plain": [
       "<Figure size 288x288 with 2 Axes>"
      ]
     },
     "metadata": {
      "needs_background": "light"
     },
     "output_type": "display_data"
    }
   ],
   "source": [
    "import seaborn as sns\n",
    "corr = df.corr()\n",
    "l = corr.iloc[:100,:100]\n",
    "plt.figure(figsize=(36,20), dpi=50)\n",
    "plt.matshow(l)\n",
    "plt.xticks(range(len(l.columns)), l.columns, fontsize=2, rotation='vertical')\n",
    "plt.yticks(range(len(l.columns)), l.columns, fontsize=2)\n",
    "plt.colorbar()\n",
    "plt.savefig(\"correlation_matrix.pdf\")\n"
   ]
  },
  {
   "cell_type": "code",
   "execution_count": null,
   "metadata": {},
   "outputs": [],
   "source": []
  },
  {
   "cell_type": "code",
   "execution_count": null,
   "metadata": {},
   "outputs": [],
   "source": []
  }
 ],
 "metadata": {
  "kernelspec": {
   "display_name": "Python 3",
   "language": "python",
   "name": "python3"
  },
  "language_info": {
   "codemirror_mode": {
    "name": "ipython",
    "version": 3
   },
   "file_extension": ".py",
   "mimetype": "text/x-python",
   "name": "python",
   "nbconvert_exporter": "python",
   "pygments_lexer": "ipython3",
   "version": "3.6.0"
  }
 },
 "nbformat": 4,
 "nbformat_minor": 2
}
